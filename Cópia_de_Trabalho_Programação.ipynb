{
  "nbformat": 4,
  "nbformat_minor": 0,
  "metadata": {
    "colab": {
      "provenance": [],
      "include_colab_link": true
    },
    "kernelspec": {
      "name": "python3",
      "display_name": "Python 3"
    }
  },
  "cells": [
    {
      "cell_type": "markdown",
      "metadata": {
        "id": "view-in-github",
        "colab_type": "text"
      },
      "source": [
        "<a href=\"https://colab.research.google.com/github/ArthurSchwambach/DesafioFortes/blob/main/C%C3%B3pia_de_Trabalho_Programa%C3%A7%C3%A3o.ipynb\" target=\"_parent\"><img src=\"https://colab.research.google.com/assets/colab-badge.svg\" alt=\"Open In Colab\"/></a>"
      ]
    },
    {
      "cell_type": "markdown",
      "metadata": {
        "id": "G90zxY79qIXe"
      },
      "source": [
        "<html>\n",
        "  <body>\n",
        "    <header></header>\n",
        "        <CENTER>\n",
        "          <img src=\"https://uvv.br/wp-content/themes/uvvBr/templates/assets//img/logouvv.svg\" alt=\"UVV-LOGO\" style = width=\"100px\"; height=\"100px\">\n",
        "        </CENTER>\n",
        "        <CENTER><b>Programação de Computadores</b></CENTER>\n",
        "        <CENTER><b>TRABALHO 2º BIMESTRE: LISTA 1: STRING + LISTA 2 - MODULARIZAÇÃO\n",
        "</b></CENTER><br/>"
      ]
    },
    {
      "cell_type": "markdown",
      "metadata": {
        "id": "XqwNMjGLhqXV"
      },
      "source": [
        "**NOME: Arthur da Silva Schwambach**"
      ]
    },
    {
      "cell_type": "markdown",
      "metadata": {
        "id": "Bnhc9WsIrwq5"
      },
      "source": [
        "CRIAR / COMPARTILHAR AQUI UM LINK PARA SEU PRÓPRIO NOTEBOOK COLAB: [Clique Aqui!](https://colab.research.google.com/drive/1d_Oa6w2bDAy1H0YUnh2BLDQ9bwd6f13C?usp=sharing)"
      ]
    },
    {
      "cell_type": "markdown",
      "metadata": {
        "id": "yZfJjeQgqTo_"
      },
      "source": [
        "# Exercícios conforme sorteio:\n",
        "Strings: 7, 8, 16, 20 e 23.\n",
        "\n",
        "Modularização: 6, 9, 11, 14 e 17."
      ]
    },
    {
      "cell_type": "markdown",
      "metadata": {
        "id": "u0MPOSPAhOp3"
      },
      "source": [
        "$\\longmapsto$ Exercício 1: LISTA DE STRING"
      ]
    },
    {
      "cell_type": "markdown",
      "source": [
        "Link reply.it: [Aqui!](https://replit.com/@ArtSchwambach/Exercicio-7-Strings-TERMINADO#main.c)"
      ],
      "metadata": {
        "id": "j2-o8YpWMO-i"
      }
    },
    {
      "cell_type": "code",
      "metadata": {
        "id": "YeHmVeRihWn9"
      },
      "source": [
        "/*\n",
        "Escrever um programa que leia uma string e identifique se esta é um palíndromo.\n",
        "Palíndromo é uma palavra lida da esquerda para direita ou vice-versa\n",
        "permanecendo a mesma palavra. Ex: ANILINA.\n",
        "*/\n",
        "\n",
        "#include <stdio.h>\n",
        "#include <string.h>\n",
        "\n",
        "int main(void) {\n",
        "  char palavra[100];\n",
        "  char palavraReversa[100];\n",
        "  int tam = 0;\n",
        "  int cont = 0;\n",
        "\n",
        "  printf(\"Digite uma palavra:\\n\");\n",
        "  scanf(\"%99[^\\n]\", palavra);\n",
        "\n",
        "  tam = strlen(palavra);\n",
        "\n",
        "  for (cont = 0; cont < tam; cont++) {\n",
        "    palavraReversa[cont] = palavra[tam - cont - 1];\n",
        "  }\n",
        "  palavraReversa[tam] = '\\0';\n",
        "\n",
        "  if (strcmp(palavra, palavraReversa) == 0) {\n",
        "    printf(\"A palavra '%s' é um palíndromo.\\n\", palavra);\n",
        "  } else {\n",
        "    printf(\"A palavra '%s' não é um palíndromo.\\n\", palavra);\n",
        "  }\n",
        "\n",
        "  return 0;\n",
        "}"
      ],
      "execution_count": null,
      "outputs": []
    },
    {
      "cell_type": "markdown",
      "metadata": {
        "id": "nrUtgE29hcFJ"
      },
      "source": [
        "$\\longmapsto$ Exercício 2: LISTA DE STRING"
      ]
    },
    {
      "cell_type": "markdown",
      "source": [
        "Link reply.it: [Aqui!](https://replit.com/@ArtSchwambach/Exercicio-8-Strings-TERMINADO#main.c)"
      ],
      "metadata": {
        "id": "eFI6qd3YMOAr"
      }
    },
    {
      "cell_type": "code",
      "metadata": {
        "id": "eVqiRk4Zhg51"
      },
      "source": [
        "/*\n",
        "Escrever um programa que leia várias mensagens (uma por uma) e exiba cada\n",
        "mensagem com um espaço em branco entre todos os caracteres. Pare o programa\n",
        "quando for digitada a palavra “FIM”.\n",
        "*/\n",
        "\n",
        "#include <stdio.h>\n",
        "#include <string.h>\n",
        "\n",
        "int main(void) {\n",
        "  int cont = 0;\n",
        "  char mensagem[100];\n",
        "\n",
        "  while (1) {\n",
        "    printf(\"\\nDigite uma mensagem (ou FIM para sair):\\n\");\n",
        "    scanf(\"%s\", mensagem);\n",
        "\n",
        "    for (cont = 0; cont < strlen(mensagem); cont++) {\n",
        "      printf(\"%c \", mensagem[cont]);\n",
        "    }\n",
        "\n",
        "    if (strcmp(mensagem, \"FIM\") == 0) {\n",
        "      printf(\"\\nSaindo do Programa.\\n\");\n",
        "      break;\n",
        "    }\n",
        "  }\n",
        "\n",
        "  return 0;\n",
        "}"
      ],
      "execution_count": null,
      "outputs": []
    },
    {
      "cell_type": "markdown",
      "source": [
        "$\\longmapsto$ Exercício 3: LISTA DE STRING"
      ],
      "metadata": {
        "id": "IvaoE5CcLYkM"
      }
    },
    {
      "cell_type": "markdown",
      "source": [
        "Link reply.it: [Aqui!](https://replit.com/@ArtSchwambach/Exercicio-16-Strings-TERMINADO)"
      ],
      "metadata": {
        "id": "Mk4PM8UnLYsK"
      }
    },
    {
      "cell_type": "code",
      "source": [
        "/*\n",
        "Modularizar (criar: Função + Protótipo) dos exercícios anteriores: 2, 3, 4, 5,\n",
        "6, 10, 12, 13, 14 e 15.*/\n",
        "\n",
        "#include <stdio.h>\n",
        "#include <string.h>\n",
        "#define MAX 100\n",
        "// Exercício 2 escolhido (Contar caracteres brancos)\n",
        "\n",
        "int contarCaracteresBrancos(char *mensagem);\n",
        "\n",
        "int contarCaracteresBrancos(char *mensagem) {\n",
        "  int i, count = 0;\n",
        "  for (i = 0; mensagem[i] != '\\0'; i++) {\n",
        "    if (mensagem[i] == ' ' || mensagem[i] == '\\t' || mensagem[i] == '\\n') {\n",
        "      count++;\n",
        "    }\n",
        "  }\n",
        "  return count;\n",
        "}\n",
        "\n",
        "int main(void) {\n",
        "  int brancos = 0;\n",
        "  char mensagem[MAX];\n",
        "\n",
        "  printf(\"Digite uma mensagem (ou 'FIM' para encerrar):\\n\");\n",
        "  scanf(\" %[^\\n]s\", mensagem);\n",
        "\n",
        "  while (strcmp(mensagem, \"FIM\") != 0) {\n",
        "    brancos = contarCaracteresBrancos(mensagem);\n",
        "    printf(\"\\nA mensagem possui %i caracteres brancos.\\n\", brancos);\n",
        "    printf(\"\\nDigite uma nova mensagem (ou FIM para encerrar o programa).\\n\");\n",
        "    scanf(\" %[^\\n]s\", mensagem);\n",
        "  }\n",
        "  return 0;\n",
        "}"
      ],
      "metadata": {
        "id": "NLGW5wyELY1a"
      },
      "execution_count": null,
      "outputs": []
    },
    {
      "cell_type": "markdown",
      "source": [
        "$\\longmapsto$ Exercício 4: LISTA DE STRING"
      ],
      "metadata": {
        "id": "od3aDtQqLg7a"
      }
    },
    {
      "cell_type": "markdown",
      "source": [
        "Link reply.it: [Aqui!](https://replit.com/@ArtSchwambach/Exercicio-20-Strings-TERMINADO)"
      ],
      "metadata": {
        "id": "taZs8DlRLhCy"
      }
    },
    {
      "cell_type": "code",
      "source": [
        "/*\n",
        "Criar uma (1) função e seu protótipo que receba como argumento uma mensagem e\n",
        "uma letra qualquer. Retorne da função a quantidade de ocorrências da letra na\n",
        "mensagem.\n",
        "*/\n",
        "\n",
        "#include <stdio.h>\n",
        "#include <string.h>\n",
        "\n",
        "int contarOcorrencias(char *mensagem, char letra);\n",
        "int contarOcorrencias(char *mensagem, char letra) {\n",
        "  int ocorrencias = 0;\n",
        "  int cont;\n",
        "  for (cont = 0; cont < strlen(mensagem); cont++) {\n",
        "    if (mensagem[cont] == letra) {\n",
        "      ocorrencias++;\n",
        "    }\n",
        "  }\n",
        "  return ocorrencias;\n",
        "}\n",
        "\n",
        "int main(void) {\n",
        "  char mensagem[100];\n",
        "  char letra;\n",
        "  int ocorrencias;\n",
        "\n",
        "  printf(\"Digite uma mensagem: \\n\");\n",
        "  scanf(\"%99[^\\n]\", mensagem);\n",
        "\n",
        "  printf(\"Digite a letra:\\n\");\n",
        "  scanf(\" %c\", &letra);\n",
        "\n",
        "  ocorrencias = contarOcorrencias(mensagem, letra);\n",
        "  printf(\"Ocorrencias da letra '%c' na mensagem: %i\\n\", letra, ocorrencias);\n",
        "\n",
        "  return 0;\n",
        "}"
      ],
      "metadata": {
        "id": "4ab2w96FLhLh"
      },
      "execution_count": null,
      "outputs": []
    },
    {
      "cell_type": "markdown",
      "source": [
        "$\\longmapsto$ Exercício 5: LISTA DE STRING"
      ],
      "metadata": {
        "id": "sOo_mRjAMDCD"
      }
    },
    {
      "cell_type": "markdown",
      "source": [
        "Link reply.it: [Aqui!](https://replit.com/@ArtSchwambach/Exercicio-23-Strings-TERMINADO#main.c)"
      ],
      "metadata": {
        "id": "8TnGJLEsMKiP"
      }
    },
    {
      "cell_type": "code",
      "source": [
        "/*\n",
        "Criar uma (1) função e seu protótipo que receba como argumento somente uma\n",
        "mensagem e retorne a mesma mensagem (mesmo vetor) escrita com todos os\n",
        "caracteres MAIÚSCULOS ou MINÚSCULOS. Coloque no argumento da mesma função um\n",
        "flag (Variável) que receberá: ZERO (0): Retorna da função todos os caracteres\n",
        "MAIÚSCULOS. UM (1): Retorna da função todos os caracteres MINÚSCULOS.\n",
        "*/\n",
        "\n",
        "#include <ctype.h>\n",
        "#include <stdio.h>\n",
        "\n",
        "char *maiusculo_minusculo(char mensagem[], int flag);\n",
        "\n",
        "char *maiusculo_minusculo(char mensagem[], int flag) {\n",
        "\n",
        "  int i = 0;\n",
        "\n",
        "  while (mensagem[i] != '\\0') {\n",
        "    if (flag == 0) {\n",
        "      mensagem[i] = toupper(mensagem[i]);\n",
        "    } else if (flag == 1) {\n",
        "      mensagem[i] = tolower(mensagem[i]);\n",
        "    }\n",
        "    i++;\n",
        "  }\n",
        "  return mensagem;\n",
        "}\n",
        "\n",
        "int main(void) {\n",
        "  char mensagem[100];\n",
        "  int flag;\n",
        "\n",
        "  printf(\"Digite a mensagem:\\n\");\n",
        "  scanf(\" %s\", mensagem);\n",
        "\n",
        "  printf(\"Digite a flag (0 para maíusculo e 1 para minúsculo:)\\n\");\n",
        "  scanf(\"%i\", &flag);\n",
        "\n",
        "  printf(\"Mensagem transformada: %s\", maiusculo_minusculo(mensagem, flag));\n",
        "  return 0;\n",
        "}"
      ],
      "metadata": {
        "id": "DYpb-jvVMSpX"
      },
      "execution_count": null,
      "outputs": []
    },
    {
      "cell_type": "markdown",
      "source": [
        "$\\longmapsto$ Exercício 1: LISTA DE MODULARIZAÇÃO"
      ],
      "metadata": {
        "id": "SgzZNE2mMstQ"
      }
    },
    {
      "cell_type": "markdown",
      "source": [
        "Link reply.it: [Aqui!](https://replit.com/@ArtSchwambach/Exercicio-6-Modularizacao-TERMINADO)"
      ],
      "metadata": {
        "id": "PNewlxD_MstQ"
      }
    },
    {
      "cell_type": "code",
      "source": [
        "/*\n",
        "Criar duas funções e seus protótipos que calculem a Combinação e o Arranjo de n\n",
        "elementos combinados p a p. Após isso, na main, use as funções criadas várias\n",
        "vezes e exiba o resultado da Combinação e do Arranjo enquanto os valores lidos\n",
        "do usuário: n e p estiverem corretos. Sabe-se que: Arranjo(n, p) = n! (n−p)!\n",
        "Combinação(n, p) =\n",
        "\n",
        "Arranjo(n,p)\n",
        "p!\n",
        "; sendo que: n e p ≥ 0 e n ≥ p\n",
        "\n",
        "*/\n",
        "\n",
        "#include <stdio.h>\n",
        "\n",
        "int fatorial(int n);\n",
        "int arranjo(int n, int p);\n",
        "int combinacao(int n, int p);\n",
        "\n",
        "int fatorial(int n) {\n",
        "  if (n <= 1) {\n",
        "    return 1;\n",
        "  } else {\n",
        "    return n * fatorial(n - 1);\n",
        "  }\n",
        "}\n",
        "\n",
        "int arranjo(int n, int p) {\n",
        "  int resultado = 1;\n",
        "  for (int i = 0; i < p; i++) {\n",
        "    resultado *= n - i;\n",
        "  }\n",
        "  return resultado;\n",
        "}\n",
        "\n",
        "int combinacao(int n, int p) { return arranjo(n, p) / fatorial(p); }\n",
        "\n",
        "int main(void) {\n",
        "  int n, p;\n",
        "\n",
        "  while (1) {\n",
        "    printf(\"Digite o valor de n (ou -1 para sair):\\n\");\n",
        "    scanf(\"%i\", &n);\n",
        "    if (n == -1) {\n",
        "      break;\n",
        "    }\n",
        "\n",
        "    printf(\"Digite o valor de p:\\n\");\n",
        "    scanf(\"%i\", &p);\n",
        "\n",
        "    if (n < 0 || p < 0 || n < p) {\n",
        "      printf(\"Valores inválidos.\\n\");\n",
        "      break;\n",
        "    }\n",
        "\n",
        "    printf(\"Arranjo(%i, %i) = %i.\\n\", n, p, arranjo(n, p));\n",
        "    printf(\"Combinação(%i, %i) = %i.\\n\", n, p, combinacao(n, p));\n",
        "  }\n",
        "  return 0;\n",
        "}"
      ],
      "metadata": {
        "id": "v9Uh6mI_Mz3J"
      },
      "execution_count": null,
      "outputs": []
    },
    {
      "cell_type": "markdown",
      "source": [
        "$\\longmapsto$ Exercício 2: LISTA DE MODULARIZAÇÃO"
      ],
      "metadata": {
        "id": "D_2N8IA6M6CH"
      }
    },
    {
      "cell_type": "markdown",
      "source": [
        "Link reply.it: [Aqui!](https://replit.com/@ArtSchwambach/Exercicio-9-Modularizacao-TERMINADO)"
      ],
      "metadata": {
        "id": "QspvV9XBM6CH"
      }
    },
    {
      "cell_type": "code",
      "source": [
        "/*\n",
        "Crie uma função que calcule o IMC (Índice de Massa Corpórea) de uma pessoa com\n",
        "base na sua idade, massa e sexo conforme tabela. Na main, use a função e exiba o\n",
        "IMC de 100 entrevistados (um por um).\n",
        "\n",
        "Sexo Fórmula\n",
        "F : Feminino IMC = (0.95∗ MassaAltura2)\n",
        "\n",
        "M: Masculino IMC = (1.05 ∗ Massa Altura2)\n",
        "*/\n",
        "\n",
        "float calcularIMC(float Massa, float Altura, char Sexo) {\n",
        "  if (Sexo == 'F') {\n",
        "    return 0.95 * Massa / (Altura * Altura);\n",
        "  } else {\n",
        "    return 1.05 * Massa / (Altura * Altura);\n",
        "  }\n",
        "}\n",
        "\n",
        "#include <stdio.h>\n",
        "#define entrevistados 100\n",
        "\n",
        "int main(void) {\n",
        "  float Massa, Altura;\n",
        "  int cont = 0;\n",
        "  int idade = 0;\n",
        "  char Sexo;\n",
        "\n",
        "  for (cont = 0; cont < entrevistados; cont++) {\n",
        "    printf(\"Digite sua Idade:\\n\");\n",
        "    scanf(\"%i\", &idade);\n",
        "\n",
        "    printf(\"Digite sua Massa:\\n\");\n",
        "    scanf(\"%f\", &Massa);\n",
        "\n",
        "    printf(\"Digite sua Altura:\\n\");\n",
        "    scanf(\"%f\", &Altura);\n",
        "\n",
        "    printf(\"Digite seu Sexo:\\n\");\n",
        "    scanf(\" %c\", &Sexo);\n",
        "\n",
        "    if (Sexo != 'F' && Sexo != 'M') {\n",
        "      printf(\"Erro! Digite 'F' ou 'M'\\n\");\n",
        "      break;\n",
        "    }\n",
        "\n",
        "    printf(\"Seu IMC é: %f\\n\", calcularIMC(Massa, Altura, Sexo));\n",
        "  }\n",
        "\n",
        "  return 0;\n",
        "}"
      ],
      "metadata": {
        "id": "ZP60g3WpM6CH"
      },
      "execution_count": null,
      "outputs": []
    },
    {
      "cell_type": "markdown",
      "source": [
        "$\\longmapsto$ Exercício 3: LISTA DE MODULARIZAÇÃO"
      ],
      "metadata": {
        "id": "_JITpBwfNTfl"
      }
    },
    {
      "cell_type": "markdown",
      "source": [
        "Link reply.it: [Aqui!](https://replit.com/@ArtSchwambach/Exercicio-11-Modularizacao-TERMINADO)"
      ],
      "metadata": {
        "id": "lo3wArIwNTfl"
      }
    },
    {
      "cell_type": "code",
      "source": [
        "/*\n",
        "Crie uma função e seu protótipo que receba como argumento um símbolo (char) e\n",
        "retorne a classe deste símbolo, conforme a tabela a seguir:\n",
        "\n",
        "Classificação Classe\n",
        "Vogal Minúscula 1\n",
        "Vogal Maiúscula 2\n",
        "Consoante Minúscula 3\n",
        "Consoante Maiúscula 4\n",
        "Símbolo Especial 5\n",
        "\n",
        "Na main, use a função em 100 símbolos (um de cada vez) lidos do usuário e exiba\n",
        "sua Classificação.\n",
        "*/\n",
        "\n",
        "#include <stdio.h>\n",
        "\n",
        "#define tamanho 100\n",
        "\n",
        "int classificarSimbolo(char simbolo);\n",
        "\n",
        "int classificarSimbolo(char simbolo) {\n",
        "  if (simbolo == 'a' || simbolo == 'e' || simbolo == 'i' || simbolo == 'o' ||\n",
        "      simbolo == 'u') {\n",
        "    return 1;\n",
        "  } else if (simbolo == 'A' || simbolo == 'E' || simbolo == 'I' ||\n",
        "             simbolo == 'O' || simbolo == 'U') {\n",
        "    return 2;\n",
        "  } else if (simbolo >= 'a' && simbolo <= 'z') {\n",
        "    return 3;\n",
        "  } else if (simbolo >= 'A' && simbolo <= 'Z') {\n",
        "    return 4;\n",
        "  } else {\n",
        "    return 5;\n",
        "  }\n",
        "}\n",
        "\n",
        "int main(void) {\n",
        "  int cont = 0;\n",
        "  char simbolo;\n",
        "\n",
        "  for (cont = 0; cont < tamanho; cont++) {\n",
        "    printf(\"Digite um símbolo: \\n\");\n",
        "    scanf(\" %c\", &simbolo);\n",
        "\n",
        "    int classificador = classificarSimbolo(simbolo);\n",
        "\n",
        "    if (classificador == 1) {\n",
        "      printf(\"Vogal Minúscula.\\n\");\n",
        "    } else if (classificador == 2) {\n",
        "      printf(\"Vogal Maiúscula.\\n\");\n",
        "    } else if (classificador == 3) {\n",
        "      printf(\"Consoante Minúscula.\\n\");\n",
        "    } else if (classificador == 4) {\n",
        "      printf(\"Consoante Maiúscula.\\n\");\n",
        "    } else {\n",
        "      printf(\"Símbolo Especial.\\n\");\n",
        "    }\n",
        "  }\n",
        "\n",
        "  return 0;\n",
        "}\n"
      ],
      "metadata": {
        "id": "ybp7ZuGDNTfm"
      },
      "execution_count": null,
      "outputs": []
    },
    {
      "cell_type": "markdown",
      "source": [
        "$\\longmapsto$ Exercício 4: LISTA DE MODULARIZAÇÃO"
      ],
      "metadata": {
        "id": "6DCu0DzbNcIt"
      }
    },
    {
      "cell_type": "markdown",
      "source": [
        "Link reply.it: [Aqui!](https://replit.com/@ArtSchwambach/Exercicio-14-Modularizacao-TERMINADO)"
      ],
      "metadata": {
        "id": "VGDKi_2kNcIu"
      }
    },
    {
      "cell_type": "code",
      "source": [
        "/*\n",
        "Crie uma função e seu protótipo que calcule a área e volume de uma esfera. Na\n",
        "main, use a função em 50 esferas e exiba a área e volume para valores de raio (R\n",
        "∈ R+) informada pelo usuário. Sendo:\n",
        "\n",
        "Area = 4 ∗ π ∗ R\n",
        "2\n",
        "Volume =\n",
        "4\n",
        "3\n",
        "∗ π ∗ R\n",
        "3\n",
        "*/\n",
        "\n",
        "#include <math.h>\n",
        "#include <stdio.h>\n",
        "#define esferas 50\n",
        "#define PI 3.14\n",
        "\n",
        "float calcularArea(float raio) {\n",
        "  float area = 4 * PI * pow(raio, 2);\n",
        "  return area;\n",
        "}\n",
        "\n",
        "float calcularVolume(float raio) {\n",
        "  float volume = (4 * PI * pow(raio, 3)) / 3;\n",
        "  return volume;\n",
        "}\n",
        "\n",
        "int main(void) {\n",
        "  float raio;\n",
        "  int cont = 1;\n",
        "\n",
        "  for (cont = 1; cont < esferas; cont++) {\n",
        "    printf(\"Esfera %iº:\\n\", cont);\n",
        "\n",
        "    printf(\"Digite o Raio da Esfera:\\n\");\n",
        "    scanf(\"%f\", &raio);\n",
        "\n",
        "    float area = calcularArea(raio);\n",
        "    float volume = calcularVolume(raio);\n",
        "\n",
        "    printf(\"Área: %.2f\\n\", area);\n",
        "    printf(\"Volume: %.2f\\n\", volume);\n",
        "  }\n",
        "\n",
        "  return 0;\n",
        "}"
      ],
      "metadata": {
        "id": "_iLrYTctNcIu"
      },
      "execution_count": null,
      "outputs": []
    },
    {
      "cell_type": "markdown",
      "source": [
        "$\\longmapsto$ Exercício 5: LISTA DE MODULARIZAÇÃO"
      ],
      "metadata": {
        "id": "BG3yCU1_Njgf"
      }
    },
    {
      "cell_type": "markdown",
      "source": [
        "Link reply.it: [Aqui!](https://replit.com/@ArtSchwambach/Exercicio-17-Modularizacao-TERMINADO)"
      ],
      "metadata": {
        "id": "YYDaDx-hNjgf"
      }
    },
    {
      "cell_type": "code",
      "source": [
        "/*\n",
        "Crie uma função e seu protótipo que determine An e Sn de uma Progressão\n",
        "Geométrica (P.G). Após isso, use a função 50 vezes para calcular os dados de 50\n",
        "P.G's com valores de a1, q e n lidos do usuário. Enésimo termo ∶ An = a1 ∗ q\n",
        "(n−1)\n",
        "\n",
        "Soma dos termos: Sn =a1 ∗ (qn − 1)q − 1\n",
        "\n",
        "Sendo que:\n",
        "a1 = primeiro termo da P. G\n",
        "q = Razão da P. G\n",
        "n = Quantidade de termos da P. G\n",
        "*/\n",
        "\n",
        "#include <math.h>\n",
        "#include <stdio.h>\n",
        "#define tamanho 50\n",
        "\n",
        "float enesimoTermo(float a1, float q, int n);\n",
        "\n",
        "float somaDosTermos(float a1, float q, int n);\n",
        "\n",
        "float enesimoTermo(float a1, float q, int n) { return a1 * pow(q, n - 1); }\n",
        "\n",
        "float somaDosTermos(float a1, float q, int n) {\n",
        "  if (q == 1) {\n",
        "    return a1 * n;\n",
        "  } else {\n",
        "    return a1 * (pow(q, n) - 1) / (q - 1);\n",
        "  }\n",
        "}\n",
        "\n",
        "int main(void) {\n",
        "  int cont;\n",
        "  float a1, q;\n",
        "  int n;\n",
        "\n",
        "  for (cont = 0; cont < tamanho; cont++) {\n",
        "    printf(\"Digite o primeiro termo da PG (a1):\\n\");\n",
        "    scanf(\"%f\", &a1);\n",
        "    printf(\"Digite a razão da PG (q):\\n\");\n",
        "    scanf(\"%f\", &q);\n",
        "    printf(\"Digite a quantidade de termos (n) da PG:\\n\");\n",
        "    scanf(\"%i\", &n);\n",
        "\n",
        "    printf(\"Enésimo Termo da PG: %.2f.\\n\", enesimoTermo(a1, q, n));\n",
        "\n",
        "    printf(\"Soma dos Termos da PG: %.2f.\\n\", somaDosTermos(a1, q, n));\n",
        "  }\n",
        "\n",
        "  return 0;\n",
        "}"
      ],
      "metadata": {
        "id": "BWwXnwVpNjgf"
      },
      "execution_count": null,
      "outputs": []
    }
  ]
}